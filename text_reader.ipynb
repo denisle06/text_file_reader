{
 "cells": [
  {
   "cell_type": "code",
   "execution_count": 6,
   "id": "80f095ce",
   "metadata": {},
   "outputs": [
    {
     "name": "stdout",
     "output_type": "stream",
     "text": [
      "Requirement already satisfied: pymupdf in c:\\python\\lib\\site-packages (1.26.1)\n",
      "Note: you may need to restart the kernel to use updated packages.\n"
     ]
    },
    {
     "name": "stderr",
     "output_type": "stream",
     "text": [
      "\n",
      "[notice] A new release of pip is available: 24.0 -> 25.1.1\n",
      "[notice] To update, run: python.exe -m pip install --upgrade pip\n"
     ]
    }
   ],
   "source": [
    "%pip install pymupdf"
   ]
  },
  {
   "cell_type": "code",
   "execution_count": 7,
   "id": "133a2a6b",
   "metadata": {},
   "outputs": [],
   "source": [
    "import os\n",
    "import fitz\n",
    "import re\n",
    "from collections import defaultdict\n",
    "import random\n",
    "import time\n",
    "\n"
   ]
  },
  {
   "cell_type": "code",
   "execution_count": 8,
   "id": "53af941b",
   "metadata": {},
   "outputs": [],
   "source": [
    "script_dir = os.getcwd()\n",
    "# Get the directory of the current script\n",
    "#script_dir = os.path.dirname(os.path.abspath(__file__))\n",
    "\n",
    "# Define the folder path relative to the script location\n",
    "folder_path = os.path.join(script_dir, 'questions')\n",
    "\n",
    "# Create the folder if it doesn't exist\n",
    "os.makedirs(folder_path, exist_ok=True)\n",
    "\n",
    "files = []\n",
    "# read through the files\n",
    "def find_file():\n",
    "    for f in os.listdir(folder_path):\n",
    "        if os.path.isfile(os.path.join(folder_path, f)) and f.lower().endswith(('.pdf', '.docx')) :\n",
    "            files.append(f)\n",
    "\n",
    "    if not files:\n",
    "        print(\"No files found in the folder.\")\n",
    "    else:\n",
    "        print(\"Files in folder:\")\n",
    "        for i, file in enumerate(files):\n",
    "            print(f\"{i + 1}: {file}\")    \n",
    "    return files\n",
    "\n",
    "# Ask user to select a file\n",
    "def select_file(choice):\n",
    "    selected_file = os.path.join(folder_path, files[choice - 1])\n",
    "    print(f\"Selected file: {files[choice - 1]}\")\n",
    "    return os.path.join(folder_path, files[choice - 1])\n"
   ]
  },
  {
   "cell_type": "code",
   "execution_count": 9,
   "id": "f02da980",
   "metadata": {},
   "outputs": [],
   "source": [
    "\n",
    "def read_file(path):\n",
    "    # Load the PDF\n",
    "    doc = fitz.open(path)\n",
    "\n",
    "    # Extract all text\n",
    "    full_text = \"\"\n",
    "    for page in doc:\n",
    "        full_text += page.get_text()\n",
    "\n",
    "    # Prepare to store categorized questions\n",
    "    categorized_questions = defaultdict(list)\n",
    "\n",
    "    # Regex pattern to match question blocks\n",
    "    pattern = re.compile(\n",
    "        r\"(?P<number>\\d+)\\.\\s+\\[(?P<difficulty>Easy|Medium|Hard)\\]\\s+(?P<question>.*?)\"\n",
    "        r\"(?=\\s*[A-D]\\.\\s+)\"\n",
    "        r\"(?P<choices>(?:\\s*[A-D]\\.\\s+.*?\\n)+)\\s*Answer:\\s+(?P<answer>[A-D])\",\n",
    "        re.DOTALL\n",
    "    )\n",
    "\n",
    "    # Extract and categorize\n",
    "    for match in pattern.finditer(full_text):\n",
    "        difficulty = match.group(\"difficulty\")\n",
    "        number = match.group(\"number\")\n",
    "        question = match.group(\"question\").strip().replace('\\n', ' ')\n",
    "        choices_text = match.group(\"choices\")\n",
    "        answer = match.group(\"answer\")\n",
    "\n",
    "    # Extract choices\n",
    "        choices = {}\n",
    "        for choice_match in re.finditer(r\"([A-D])\\.\\s+(.*?)\\n\", choices_text):\n",
    "            choices[choice_match.group(1)] = choice_match.group(2).strip()\n",
    "\n",
    "    # Store the result\n",
    "    categorized_questions[difficulty].append({\n",
    "        \"number\": number,\n",
    "        \"question\": question,\n",
    "        \"choices\": choices,\n",
    "        \"answer\": answer\n",
    "    })\n",
    "\n",
    "    return categorized_questions\n",
    "\n",
    "    \n"
   ]
  },
  {
   "cell_type": "code",
   "execution_count": null,
   "id": "aec3aee8",
   "metadata": {},
   "outputs": [
    {
     "name": "stdout",
     "output_type": "stream",
     "text": [
      "Welcome to SAT test maker ver 1.0.0.\n",
      "Files in folder:\n",
      "1: [TEST BANK] WORD IN CONTEXT.pdf\n",
      "Please select a file to continue.\n",
      "Selected file: [TEST BANK] WORD IN CONTEXT.pdf\n"
     ]
    }
   ],
   "source": [
    "\n",
    "while True:\n",
    "    files.clear()\n",
    "    \n",
    "    print(\"Welcome to SAT test maker ver 1.0.0.\")\n",
    "    files = find_file()\n",
    "    \n",
    "    print(\"Please select a file to continue.\")\n",
    "    choice = int(input(\"Enter the number of the file you want to select: \"))  \n",
    "    if not (1 <= choice <= len(files)):\n",
    "        print(\"Invalid input. Please enter the number of the file you want to select: \")\n",
    "        choice = int(input(\"Enter the number of the file you want to select: \"))  \n",
    "    file = select_file(choice)\n",
    "    categorized_questions = read_file(file)\n",
    "    \n",
    "    print(\"Select what you want to do with the file: 1. \")\n",
    "    \n",
    "    break"
   ]
  }
 ],
 "metadata": {
  "kernelspec": {
   "display_name": "Python 3",
   "language": "python",
   "name": "python3"
  },
  "language_info": {
   "codemirror_mode": {
    "name": "ipython",
    "version": 3
   },
   "file_extension": ".py",
   "mimetype": "text/x-python",
   "name": "python",
   "nbconvert_exporter": "python",
   "pygments_lexer": "ipython3",
   "version": "3.12.3"
  }
 },
 "nbformat": 4,
 "nbformat_minor": 5
}
